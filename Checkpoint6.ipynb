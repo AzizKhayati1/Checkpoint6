{
 "cells": [
  {
   "cell_type": "code",
   "execution_count": 11,
   "id": "bfdc4694-cb57-44df-8cf5-e704cc0e45e3",
   "metadata": {},
   "outputs": [
    {
     "data": {
      "text/plain": [
       "[[2, 3], [3, 3]]"
      ]
     },
     "execution_count": 11,
     "metadata": {},
     "output_type": "execute_result"
    }
   ],
   "source": [
    "#question1 \n",
    "import numpy as np \n",
    "a = np.array ([[2,3],[3,3]])\n",
    "b = a.tolist() \n",
    "b"
   ]
  },
  {
   "cell_type": "code",
   "execution_count": 28,
   "id": "6a3a281a-0652-4635-ad1d-4d8aeec61912",
   "metadata": {},
   "outputs": [
    {
     "name": "stdout",
     "output_type": "stream",
     "text": [
      "[[0 1 2 3]\n",
      " [4 5 6 7]]\n"
     ]
    },
    {
     "data": {
      "text/plain": [
       "5"
      ]
     },
     "execution_count": 28,
     "metadata": {},
     "output_type": "execute_result"
    }
   ],
   "source": [
    "#question2\n",
    "import numpy as np \n",
    "a = np.arange(8).reshape(2,4) \n",
    "print(a)\n",
    "b = np.trace(a) \n",
    "b\n"
   ]
  },
  {
   "cell_type": "code",
   "execution_count": null,
   "id": "1f37ff75-e2a0-4ba6-a8cc-201564385b4e",
   "metadata": {},
   "outputs": [],
   "source": [
    "\n"
   ]
  },
  {
   "cell_type": "code",
   "execution_count": 35,
   "id": "d14ea8b5-dfba-45e6-9e75-e15494d4199f",
   "metadata": {},
   "outputs": [
    {
     "name": "stdout",
     "output_type": "stream",
     "text": [
      "this is the array [[1 2]\n",
      " [3 5]]\n",
      "Values bigger than 2 are = [3 5]\n"
     ]
    }
   ],
   "source": [
    "#question3\n",
    "import numpy as np\n",
    "x = np.array([[1,2],[3,5]]) \n",
    "print(\"this is the array\",x)\n",
    "print(\"Values bigger than 2 are =\", x[x>2])"
   ]
  },
  {
   "cell_type": "code",
   "execution_count": 43,
   "id": "a22cf3e6-690f-4e73-84e0-5b44eeca3fea",
   "metadata": {},
   "outputs": [
    {
     "data": {
      "text/plain": [
       "8"
      ]
     },
     "execution_count": 43,
     "metadata": {},
     "output_type": "execute_result"
    }
   ],
   "source": [
    "#question2method2\n",
    "a =np.array([[2,4],[7,6]]) #2,7\n",
    "b = a.shape #(2,2)         #7,6 \n",
    "r=b[0] # 2\n",
    "sd=0\n",
    "for i in range(r):\n",
    "    sd += a[i,i] # 0 + 2 . 2 +6\n",
    "sd\n",
    "    \n"
   ]
  },
  {
   "cell_type": "code",
   "execution_count": 46,
   "id": "c0cd6965-b97f-4ad8-97c8-241e635c4446",
   "metadata": {},
   "outputs": [
    {
     "data": {
      "text/plain": [
       "array([[ 3.,  5.],\n",
       "       [ 7., 11.]])"
      ]
     },
     "execution_count": 46,
     "metadata": {},
     "output_type": "execute_result"
    }
   ],
   "source": [
    "#QUESTION4 \n",
    "a = np.array([[1,2],[3,5]],dtype=np.float64)\n",
    "b = np.array([[2,3],[4,6]],dtype=np.float64)\n",
    "c = np.add(a,b)\n",
    "c\n",
    "\n"
   ]
  },
  {
   "cell_type": "code",
   "execution_count": 74,
   "id": "cc0dbef6-8b38-49af-89f5-297f4e795073",
   "metadata": {},
   "outputs": [
    {
     "name": "stdout",
     "output_type": "stream",
     "text": [
      "[[2 4]\n",
      " [7 6]]\n"
     ]
    },
    {
     "data": {
      "text/plain": [
       "array([[-2.75, -0.75],\n",
       "       [ 2.25,  1.25]])"
      ]
     },
     "execution_count": 74,
     "metadata": {},
     "output_type": "execute_result"
    }
   ],
   "source": [
    "#question5\n",
    "a =np.array([[2,4],[7,6]])\n",
    "a.mean()\n",
    "print(a)\n",
    "y=a-a.mean()\n",
    "y\n",
    "\n",
    "\n"
   ]
  },
  {
   "cell_type": "code",
   "execution_count": 66,
   "id": "d3237241-fdc2-4257-ace1-ddbcff1b78af",
   "metadata": {},
   "outputs": [],
   "source": []
  },
  {
   "cell_type": "code",
   "execution_count": null,
   "id": "1bd671a6-c0f4-4ce9-9b81-0720c62229a2",
   "metadata": {},
   "outputs": [],
   "source": []
  },
  {
   "cell_type": "code",
   "execution_count": null,
   "id": "242a194c-afae-461e-81c3-fe611d24a7fc",
   "metadata": {},
   "outputs": [],
   "source": []
  },
  {
   "cell_type": "code",
   "execution_count": null,
   "id": "14a53369-d789-4a29-a045-0b02b3f063ad",
   "metadata": {},
   "outputs": [],
   "source": []
  }
 ],
 "metadata": {
  "kernelspec": {
   "display_name": "Python 3",
   "language": "python",
   "name": "python3"
  },
  "language_info": {
   "codemirror_mode": {
    "name": "ipython",
    "version": 3
   },
   "file_extension": ".py",
   "mimetype": "text/x-python",
   "name": "python",
   "nbconvert_exporter": "python",
   "pygments_lexer": "ipython3",
   "version": "3.8.8"
  }
 },
 "nbformat": 4,
 "nbformat_minor": 5
}
